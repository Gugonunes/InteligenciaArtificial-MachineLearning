{
  "nbformat": 4,
  "nbformat_minor": 0,
  "metadata": {
    "colab": {
      "provenance": []
    },
    "kernelspec": {
      "name": "python3",
      "display_name": "Python 3"
    },
    "language_info": {
      "name": "python"
    }
  },
  "cells": [
    {
      "cell_type": "code",
      "execution_count": 1,
      "metadata": {
        "colab": {
          "base_uri": "https://localhost:8080/",
          "height": 35
        },
        "id": "oHzJmN7bH2sZ",
        "outputId": "e28511d7-e98b-48ad-b824-f430e23f2693"
      },
      "outputs": [
        {
          "output_type": "execute_result",
          "data": {
            "text/plain": [
              "'2.11.0'"
            ],
            "application/vnd.google.colaboratory.intrinsic+json": {
              "type": "string"
            }
          },
          "metadata": {},
          "execution_count": 1
        }
      ],
      "source": [
        "import tensorflow as tf\n",
        "import pandas as pd\n",
        "import numpy as np\n",
        "import seaborn as sns\n",
        "import matplotlib.pyplot as plt\n",
        "tf.__version__"
      ]
    },
    {
      "cell_type": "code",
      "source": [
        "dataset = pd.read_csv('personagens.csv')"
      ],
      "metadata": {
        "id": "sqJxy71jIxRo"
      },
      "execution_count": 3,
      "outputs": []
    },
    {
      "cell_type": "code",
      "source": [
        "dataset.shape"
      ],
      "metadata": {
        "colab": {
          "base_uri": "https://localhost:8080/"
        },
        "id": "w-0YROjvIiyp",
        "outputId": "f8111194-bbe6-41b1-b20d-db6ae83bf6ff"
      },
      "execution_count": 4,
      "outputs": [
        {
          "output_type": "execute_result",
          "data": {
            "text/plain": [
              "(293, 7)"
            ]
          },
          "metadata": {},
          "execution_count": 4
        }
      ]
    },
    {
      "cell_type": "code",
      "source": [
        "dataset.head()"
      ],
      "metadata": {
        "colab": {
          "base_uri": "https://localhost:8080/",
          "height": 270
        },
        "id": "A06i1eD4I8y6",
        "outputId": "286a2b0e-8256-40d7-8e3c-8d8bc57b0931"
      },
      "execution_count": 5,
      "outputs": [
        {
          "output_type": "execute_result",
          "data": {
            "text/plain": [
              "   laranja_camisa_bart  azul_calcao_bart  azul_sapato_bart  marrom_boca_homer  \\\n",
              "0             6.886102          3.495204          1.484984           0.000000   \n",
              "1             5.004901          3.183889          1.000142           0.000000   \n",
              "2             5.264620          5.029683          0.283567           0.000000   \n",
              "3             0.000000          0.000000          0.000000           0.480168   \n",
              "4             8.978929          3.459119          0.000000           0.000000   \n",
              "\n",
              "   azul_calca_homer  cinza_sapato_homer classe  \n",
              "0               0.0            0.062954   Bart  \n",
              "1               0.0            0.033024   Bart  \n",
              "2               0.0            0.151573   Bart  \n",
              "3               0.0            0.021164   Bart  \n",
              "4               0.0            0.011593   Bart  "
            ],
            "text/html": [
              "\n",
              "  <div id=\"df-e89285c0-4a01-4b55-8ff5-9507b7e1b256\">\n",
              "    <div class=\"colab-df-container\">\n",
              "      <div>\n",
              "<style scoped>\n",
              "    .dataframe tbody tr th:only-of-type {\n",
              "        vertical-align: middle;\n",
              "    }\n",
              "\n",
              "    .dataframe tbody tr th {\n",
              "        vertical-align: top;\n",
              "    }\n",
              "\n",
              "    .dataframe thead th {\n",
              "        text-align: right;\n",
              "    }\n",
              "</style>\n",
              "<table border=\"1\" class=\"dataframe\">\n",
              "  <thead>\n",
              "    <tr style=\"text-align: right;\">\n",
              "      <th></th>\n",
              "      <th>laranja_camisa_bart</th>\n",
              "      <th>azul_calcao_bart</th>\n",
              "      <th>azul_sapato_bart</th>\n",
              "      <th>marrom_boca_homer</th>\n",
              "      <th>azul_calca_homer</th>\n",
              "      <th>cinza_sapato_homer</th>\n",
              "      <th>classe</th>\n",
              "    </tr>\n",
              "  </thead>\n",
              "  <tbody>\n",
              "    <tr>\n",
              "      <th>0</th>\n",
              "      <td>6.886102</td>\n",
              "      <td>3.495204</td>\n",
              "      <td>1.484984</td>\n",
              "      <td>0.000000</td>\n",
              "      <td>0.0</td>\n",
              "      <td>0.062954</td>\n",
              "      <td>Bart</td>\n",
              "    </tr>\n",
              "    <tr>\n",
              "      <th>1</th>\n",
              "      <td>5.004901</td>\n",
              "      <td>3.183889</td>\n",
              "      <td>1.000142</td>\n",
              "      <td>0.000000</td>\n",
              "      <td>0.0</td>\n",
              "      <td>0.033024</td>\n",
              "      <td>Bart</td>\n",
              "    </tr>\n",
              "    <tr>\n",
              "      <th>2</th>\n",
              "      <td>5.264620</td>\n",
              "      <td>5.029683</td>\n",
              "      <td>0.283567</td>\n",
              "      <td>0.000000</td>\n",
              "      <td>0.0</td>\n",
              "      <td>0.151573</td>\n",
              "      <td>Bart</td>\n",
              "    </tr>\n",
              "    <tr>\n",
              "      <th>3</th>\n",
              "      <td>0.000000</td>\n",
              "      <td>0.000000</td>\n",
              "      <td>0.000000</td>\n",
              "      <td>0.480168</td>\n",
              "      <td>0.0</td>\n",
              "      <td>0.021164</td>\n",
              "      <td>Bart</td>\n",
              "    </tr>\n",
              "    <tr>\n",
              "      <th>4</th>\n",
              "      <td>8.978929</td>\n",
              "      <td>3.459119</td>\n",
              "      <td>0.000000</td>\n",
              "      <td>0.000000</td>\n",
              "      <td>0.0</td>\n",
              "      <td>0.011593</td>\n",
              "      <td>Bart</td>\n",
              "    </tr>\n",
              "  </tbody>\n",
              "</table>\n",
              "</div>\n",
              "      <button class=\"colab-df-convert\" onclick=\"convertToInteractive('df-e89285c0-4a01-4b55-8ff5-9507b7e1b256')\"\n",
              "              title=\"Convert this dataframe to an interactive table.\"\n",
              "              style=\"display:none;\">\n",
              "        \n",
              "  <svg xmlns=\"http://www.w3.org/2000/svg\" height=\"24px\"viewBox=\"0 0 24 24\"\n",
              "       width=\"24px\">\n",
              "    <path d=\"M0 0h24v24H0V0z\" fill=\"none\"/>\n",
              "    <path d=\"M18.56 5.44l.94 2.06.94-2.06 2.06-.94-2.06-.94-.94-2.06-.94 2.06-2.06.94zm-11 1L8.5 8.5l.94-2.06 2.06-.94-2.06-.94L8.5 2.5l-.94 2.06-2.06.94zm10 10l.94 2.06.94-2.06 2.06-.94-2.06-.94-.94-2.06-.94 2.06-2.06.94z\"/><path d=\"M17.41 7.96l-1.37-1.37c-.4-.4-.92-.59-1.43-.59-.52 0-1.04.2-1.43.59L10.3 9.45l-7.72 7.72c-.78.78-.78 2.05 0 2.83L4 21.41c.39.39.9.59 1.41.59.51 0 1.02-.2 1.41-.59l7.78-7.78 2.81-2.81c.8-.78.8-2.07 0-2.86zM5.41 20L4 18.59l7.72-7.72 1.47 1.35L5.41 20z\"/>\n",
              "  </svg>\n",
              "      </button>\n",
              "      \n",
              "  <style>\n",
              "    .colab-df-container {\n",
              "      display:flex;\n",
              "      flex-wrap:wrap;\n",
              "      gap: 12px;\n",
              "    }\n",
              "\n",
              "    .colab-df-convert {\n",
              "      background-color: #E8F0FE;\n",
              "      border: none;\n",
              "      border-radius: 50%;\n",
              "      cursor: pointer;\n",
              "      display: none;\n",
              "      fill: #1967D2;\n",
              "      height: 32px;\n",
              "      padding: 0 0 0 0;\n",
              "      width: 32px;\n",
              "    }\n",
              "\n",
              "    .colab-df-convert:hover {\n",
              "      background-color: #E2EBFA;\n",
              "      box-shadow: 0px 1px 2px rgba(60, 64, 67, 0.3), 0px 1px 3px 1px rgba(60, 64, 67, 0.15);\n",
              "      fill: #174EA6;\n",
              "    }\n",
              "\n",
              "    [theme=dark] .colab-df-convert {\n",
              "      background-color: #3B4455;\n",
              "      fill: #D2E3FC;\n",
              "    }\n",
              "\n",
              "    [theme=dark] .colab-df-convert:hover {\n",
              "      background-color: #434B5C;\n",
              "      box-shadow: 0px 1px 3px 1px rgba(0, 0, 0, 0.15);\n",
              "      filter: drop-shadow(0px 1px 2px rgba(0, 0, 0, 0.3));\n",
              "      fill: #FFFFFF;\n",
              "    }\n",
              "  </style>\n",
              "\n",
              "      <script>\n",
              "        const buttonEl =\n",
              "          document.querySelector('#df-e89285c0-4a01-4b55-8ff5-9507b7e1b256 button.colab-df-convert');\n",
              "        buttonEl.style.display =\n",
              "          google.colab.kernel.accessAllowed ? 'block' : 'none';\n",
              "\n",
              "        async function convertToInteractive(key) {\n",
              "          const element = document.querySelector('#df-e89285c0-4a01-4b55-8ff5-9507b7e1b256');\n",
              "          const dataTable =\n",
              "            await google.colab.kernel.invokeFunction('convertToInteractive',\n",
              "                                                     [key], {});\n",
              "          if (!dataTable) return;\n",
              "\n",
              "          const docLinkHtml = 'Like what you see? Visit the ' +\n",
              "            '<a target=\"_blank\" href=https://colab.research.google.com/notebooks/data_table.ipynb>data table notebook</a>'\n",
              "            + ' to learn more about interactive tables.';\n",
              "          element.innerHTML = '';\n",
              "          dataTable['output_type'] = 'display_data';\n",
              "          await google.colab.output.renderOutput(dataTable, element);\n",
              "          const docLink = document.createElement('div');\n",
              "          docLink.innerHTML = docLinkHtml;\n",
              "          element.appendChild(docLink);\n",
              "        }\n",
              "      </script>\n",
              "    </div>\n",
              "  </div>\n",
              "  "
            ]
          },
          "metadata": {},
          "execution_count": 5
        }
      ]
    },
    {
      "cell_type": "code",
      "source": [
        "dataset.tail()"
      ],
      "metadata": {
        "colab": {
          "base_uri": "https://localhost:8080/",
          "height": 270
        },
        "id": "g5R35omTI8nu",
        "outputId": "e2a8b9ab-0430-4486-83b3-505815c1200d"
      },
      "execution_count": 6,
      "outputs": [
        {
          "output_type": "execute_result",
          "data": {
            "text/plain": [
              "     laranja_camisa_bart  azul_calcao_bart  azul_sapato_bart  \\\n",
              "288                  0.0               0.0               0.0   \n",
              "289                  0.0               0.0               0.0   \n",
              "290                  0.0               0.0               0.0   \n",
              "291                  0.0               0.0               0.0   \n",
              "292                  0.0               0.0               0.0   \n",
              "\n",
              "     marrom_boca_homer  azul_calca_homer  cinza_sapato_homer classe  \n",
              "288           0.000000          6.485412            0.093921  Homer  \n",
              "289           0.000000          0.000000            0.042194  Homer  \n",
              "290           0.000000          4.263629            0.076761  Homer  \n",
              "291           0.000000          1.429134            0.017013  Homer  \n",
              "292          13.744248          0.853902            0.063546  Homer  "
            ],
            "text/html": [
              "\n",
              "  <div id=\"df-f65a760a-f422-49b8-a8bb-ea48954dbdbf\">\n",
              "    <div class=\"colab-df-container\">\n",
              "      <div>\n",
              "<style scoped>\n",
              "    .dataframe tbody tr th:only-of-type {\n",
              "        vertical-align: middle;\n",
              "    }\n",
              "\n",
              "    .dataframe tbody tr th {\n",
              "        vertical-align: top;\n",
              "    }\n",
              "\n",
              "    .dataframe thead th {\n",
              "        text-align: right;\n",
              "    }\n",
              "</style>\n",
              "<table border=\"1\" class=\"dataframe\">\n",
              "  <thead>\n",
              "    <tr style=\"text-align: right;\">\n",
              "      <th></th>\n",
              "      <th>laranja_camisa_bart</th>\n",
              "      <th>azul_calcao_bart</th>\n",
              "      <th>azul_sapato_bart</th>\n",
              "      <th>marrom_boca_homer</th>\n",
              "      <th>azul_calca_homer</th>\n",
              "      <th>cinza_sapato_homer</th>\n",
              "      <th>classe</th>\n",
              "    </tr>\n",
              "  </thead>\n",
              "  <tbody>\n",
              "    <tr>\n",
              "      <th>288</th>\n",
              "      <td>0.0</td>\n",
              "      <td>0.0</td>\n",
              "      <td>0.0</td>\n",
              "      <td>0.000000</td>\n",
              "      <td>6.485412</td>\n",
              "      <td>0.093921</td>\n",
              "      <td>Homer</td>\n",
              "    </tr>\n",
              "    <tr>\n",
              "      <th>289</th>\n",
              "      <td>0.0</td>\n",
              "      <td>0.0</td>\n",
              "      <td>0.0</td>\n",
              "      <td>0.000000</td>\n",
              "      <td>0.000000</td>\n",
              "      <td>0.042194</td>\n",
              "      <td>Homer</td>\n",
              "    </tr>\n",
              "    <tr>\n",
              "      <th>290</th>\n",
              "      <td>0.0</td>\n",
              "      <td>0.0</td>\n",
              "      <td>0.0</td>\n",
              "      <td>0.000000</td>\n",
              "      <td>4.263629</td>\n",
              "      <td>0.076761</td>\n",
              "      <td>Homer</td>\n",
              "    </tr>\n",
              "    <tr>\n",
              "      <th>291</th>\n",
              "      <td>0.0</td>\n",
              "      <td>0.0</td>\n",
              "      <td>0.0</td>\n",
              "      <td>0.000000</td>\n",
              "      <td>1.429134</td>\n",
              "      <td>0.017013</td>\n",
              "      <td>Homer</td>\n",
              "    </tr>\n",
              "    <tr>\n",
              "      <th>292</th>\n",
              "      <td>0.0</td>\n",
              "      <td>0.0</td>\n",
              "      <td>0.0</td>\n",
              "      <td>13.744248</td>\n",
              "      <td>0.853902</td>\n",
              "      <td>0.063546</td>\n",
              "      <td>Homer</td>\n",
              "    </tr>\n",
              "  </tbody>\n",
              "</table>\n",
              "</div>\n",
              "      <button class=\"colab-df-convert\" onclick=\"convertToInteractive('df-f65a760a-f422-49b8-a8bb-ea48954dbdbf')\"\n",
              "              title=\"Convert this dataframe to an interactive table.\"\n",
              "              style=\"display:none;\">\n",
              "        \n",
              "  <svg xmlns=\"http://www.w3.org/2000/svg\" height=\"24px\"viewBox=\"0 0 24 24\"\n",
              "       width=\"24px\">\n",
              "    <path d=\"M0 0h24v24H0V0z\" fill=\"none\"/>\n",
              "    <path d=\"M18.56 5.44l.94 2.06.94-2.06 2.06-.94-2.06-.94-.94-2.06-.94 2.06-2.06.94zm-11 1L8.5 8.5l.94-2.06 2.06-.94-2.06-.94L8.5 2.5l-.94 2.06-2.06.94zm10 10l.94 2.06.94-2.06 2.06-.94-2.06-.94-.94-2.06-.94 2.06-2.06.94z\"/><path d=\"M17.41 7.96l-1.37-1.37c-.4-.4-.92-.59-1.43-.59-.52 0-1.04.2-1.43.59L10.3 9.45l-7.72 7.72c-.78.78-.78 2.05 0 2.83L4 21.41c.39.39.9.59 1.41.59.51 0 1.02-.2 1.41-.59l7.78-7.78 2.81-2.81c.8-.78.8-2.07 0-2.86zM5.41 20L4 18.59l7.72-7.72 1.47 1.35L5.41 20z\"/>\n",
              "  </svg>\n",
              "      </button>\n",
              "      \n",
              "  <style>\n",
              "    .colab-df-container {\n",
              "      display:flex;\n",
              "      flex-wrap:wrap;\n",
              "      gap: 12px;\n",
              "    }\n",
              "\n",
              "    .colab-df-convert {\n",
              "      background-color: #E8F0FE;\n",
              "      border: none;\n",
              "      border-radius: 50%;\n",
              "      cursor: pointer;\n",
              "      display: none;\n",
              "      fill: #1967D2;\n",
              "      height: 32px;\n",
              "      padding: 0 0 0 0;\n",
              "      width: 32px;\n",
              "    }\n",
              "\n",
              "    .colab-df-convert:hover {\n",
              "      background-color: #E2EBFA;\n",
              "      box-shadow: 0px 1px 2px rgba(60, 64, 67, 0.3), 0px 1px 3px 1px rgba(60, 64, 67, 0.15);\n",
              "      fill: #174EA6;\n",
              "    }\n",
              "\n",
              "    [theme=dark] .colab-df-convert {\n",
              "      background-color: #3B4455;\n",
              "      fill: #D2E3FC;\n",
              "    }\n",
              "\n",
              "    [theme=dark] .colab-df-convert:hover {\n",
              "      background-color: #434B5C;\n",
              "      box-shadow: 0px 1px 3px 1px rgba(0, 0, 0, 0.15);\n",
              "      filter: drop-shadow(0px 1px 2px rgba(0, 0, 0, 0.3));\n",
              "      fill: #FFFFFF;\n",
              "    }\n",
              "  </style>\n",
              "\n",
              "      <script>\n",
              "        const buttonEl =\n",
              "          document.querySelector('#df-f65a760a-f422-49b8-a8bb-ea48954dbdbf button.colab-df-convert');\n",
              "        buttonEl.style.display =\n",
              "          google.colab.kernel.accessAllowed ? 'block' : 'none';\n",
              "\n",
              "        async function convertToInteractive(key) {\n",
              "          const element = document.querySelector('#df-f65a760a-f422-49b8-a8bb-ea48954dbdbf');\n",
              "          const dataTable =\n",
              "            await google.colab.kernel.invokeFunction('convertToInteractive',\n",
              "                                                     [key], {});\n",
              "          if (!dataTable) return;\n",
              "\n",
              "          const docLinkHtml = 'Like what you see? Visit the ' +\n",
              "            '<a target=\"_blank\" href=https://colab.research.google.com/notebooks/data_table.ipynb>data table notebook</a>'\n",
              "            + ' to learn more about interactive tables.';\n",
              "          element.innerHTML = '';\n",
              "          dataTable['output_type'] = 'display_data';\n",
              "          await google.colab.output.renderOutput(dataTable, element);\n",
              "          const docLink = document.createElement('div');\n",
              "          docLink.innerHTML = docLinkHtml;\n",
              "          element.appendChild(docLink);\n",
              "        }\n",
              "      </script>\n",
              "    </div>\n",
              "  </div>\n",
              "  "
            ]
          },
          "metadata": {},
          "execution_count": 6
        }
      ]
    },
    {
      "cell_type": "code",
      "source": [
        "sns.countplot(x = 'classe', data=dataset)"
      ],
      "metadata": {
        "colab": {
          "base_uri": "https://localhost:8080/",
          "height": 296
        },
        "id": "w8N-oDHHI7ie",
        "outputId": "b6b2518a-9806-4c44-c8b4-0c3f05b7bc32"
      },
      "execution_count": 7,
      "outputs": [
        {
          "output_type": "execute_result",
          "data": {
            "text/plain": [
              "<AxesSubplot:xlabel='classe', ylabel='count'>"
            ]
          },
          "metadata": {},
          "execution_count": 7
        },
        {
          "output_type": "display_data",
          "data": {
            "text/plain": [
              "<Figure size 432x288 with 1 Axes>"
            ],
            "image/png": "[encoded data removed]"
          },
          "metadata": {
            "needs_background": "light"
          }
        }
      ]
    },
    {
      "cell_type": "code",
      "source": [
        "sns.heatmap(dataset.corr(), annot=True)"
      ],
      "metadata": {
        "colab": {
          "base_uri": "https://localhost:8080/",
          "height": 382
        },
        "id": "AjcgGhliJKVg",
        "outputId": "ee42b215-85fa-4d49-c5e8-bc1f61c04b69"
      },
      "execution_count": 8,
      "outputs": [
        {
          "output_type": "execute_result",
          "data": {
            "text/plain": [
              "<AxesSubplot:>"
            ]
          },
          "metadata": {},
          "execution_count": 8
        },
        {
          "output_type": "display_data",
          "data": {
            "text/plain": [
              "<Figure size 432x288 with 2 Axes>"
            ],
            "image/png": "[encoded data removed]"
          },
          "metadata": {
            "needs_background": "light"
          }
        }
      ]
    },
    {
      "cell_type": "code",
      "source": [
        "X = dataset.iloc[:, 0:6].values\n",
        "X"
      ],
      "metadata": {
        "colab": {
          "base_uri": "https://localhost:8080/"
        },
        "id": "1g4kgx1hJKPG",
        "outputId": "79827e30-bf81-4a97-e60b-210fc00af93d"
      },
      "execution_count": 9,
      "outputs": [
        {
          "output_type": "execute_result",
          "data": {
            "text/plain": [
              "array([[ 6.886102  ,  3.4952044 ,  1.4849836 ,  0.        ,  0.        ,\n",
              "         0.06295441],\n",
              "       [ 5.004901  ,  3.1838887 ,  1.0001415 ,  0.        ,  0.        ,\n",
              "         0.03302354],\n",
              "       [ 5.2646203 ,  5.0296826 ,  0.283567  ,  0.        ,  0.        ,\n",
              "         0.15157256],\n",
              "       ...,\n",
              "       [ 0.        ,  0.        ,  0.        ,  0.        ,  4.2636285 ,\n",
              "         0.07676148],\n",
              "       [ 0.        ,  0.        ,  0.        ,  0.        ,  1.4291335 ,\n",
              "         0.01701349],\n",
              "       [ 0.        ,  0.        ,  0.        , 13.744248  ,  0.853902  ,\n",
              "         0.0635462 ]])"
            ]
          },
          "metadata": {},
          "execution_count": 9
        }
      ]
    },
    {
      "cell_type": "code",
      "source": [
        "Y = dataset.iloc[:, 6].values\n",
        "Y"
      ],
      "metadata": {
        "colab": {
          "base_uri": "https://localhost:8080/"
        },
        "id": "twGAmReOJKGX",
        "outputId": "989a6263-2e58-4574-e1c2-954c93c031bb"
      },
      "execution_count": 10,
      "outputs": [
        {
          "output_type": "execute_result",
          "data": {
            "text/plain": [
              "array(['Bart', 'Bart', 'Bart', 'Bart', 'Bart', 'Bart', 'Bart', 'Bart',\n",
              "       'Bart', 'Bart', 'Bart', 'Bart', 'Bart', 'Bart', 'Bart', 'Bart',\n",
              "       'Bart', 'Bart', 'Bart', 'Bart', 'Bart', 'Bart', 'Bart', 'Bart',\n",
              "       'Bart', 'Bart', 'Bart', 'Bart', 'Bart', 'Bart', 'Bart', 'Bart',\n",
              "       'Bart', 'Bart', 'Bart', 'Bart', 'Bart', 'Bart', 'Bart', 'Bart',\n",
              "       'Bart', 'Bart', 'Bart', 'Bart', 'Bart', 'Bart', 'Bart', 'Bart',\n",
              "       'Bart', 'Bart', 'Bart', 'Bart', 'Bart', 'Bart', 'Bart', 'Bart',\n",
              "       'Bart', 'Bart', 'Bart', 'Bart', 'Bart', 'Bart', 'Bart', 'Bart',\n",
              "       'Bart', 'Bart', 'Bart', 'Bart', 'Bart', 'Bart', 'Bart', 'Bart',\n",
              "       'Bart', 'Bart', 'Bart', 'Bart', 'Bart', 'Bart', 'Bart', 'Bart',\n",
              "       'Bart', 'Bart', 'Bart', 'Bart', 'Bart', 'Bart', 'Bart', 'Bart',\n",
              "       'Bart', 'Bart', 'Bart', 'Bart', 'Bart', 'Bart', 'Bart', 'Bart',\n",
              "       'Bart', 'Bart', 'Bart', 'Bart', 'Bart', 'Bart', 'Bart', 'Bart',\n",
              "       'Bart', 'Bart', 'Bart', 'Bart', 'Bart', 'Bart', 'Bart', 'Bart',\n",
              "       'Bart', 'Bart', 'Bart', 'Bart', 'Bart', 'Bart', 'Bart', 'Bart',\n",
              "       'Bart', 'Bart', 'Bart', 'Bart', 'Bart', 'Bart', 'Bart', 'Bart',\n",
              "       'Bart', 'Bart', 'Bart', 'Bart', 'Bart', 'Bart', 'Bart', 'Bart',\n",
              "       'Bart', 'Bart', 'Bart', 'Bart', 'Bart', 'Bart', 'Bart', 'Bart',\n",
              "       'Bart', 'Bart', 'Bart', 'Bart', 'Bart', 'Bart', 'Bart', 'Bart',\n",
              "       'Bart', 'Bart', 'Bart', 'Bart', 'Bart', 'Bart', 'Bart', 'Bart',\n",
              "       'Bart', 'Bart', 'Bart', 'Bart', 'Bart', 'Bart', 'Bart', 'Bart',\n",
              "       'Bart', 'Homer', 'Homer', 'Homer', 'Homer', 'Homer', 'Homer',\n",
              "       'Homer', 'Homer', 'Homer', 'Homer', 'Homer', 'Homer', 'Homer',\n",
              "       'Homer', 'Homer', 'Homer', 'Homer', 'Homer', 'Homer', 'Homer',\n",
              "       'Homer', 'Homer', 'Homer', 'Homer', 'Homer', 'Homer', 'Homer',\n",
              "       'Homer', 'Homer', 'Homer', 'Homer', 'Homer', 'Homer', 'Homer',\n",
              "       'Homer', 'Homer', 'Homer', 'Homer', 'Homer', 'Homer', 'Homer',\n",
              "       'Homer', 'Homer', 'Homer', 'Homer', 'Homer', 'Homer', 'Homer',\n",
              "       'Homer', 'Homer', 'Homer', 'Homer', 'Homer', 'Homer', 'Homer',\n",
              "       'Homer', 'Homer', 'Homer', 'Homer', 'Homer', 'Homer', 'Homer',\n",
              "       'Homer', 'Homer', 'Homer', 'Homer', 'Homer', 'Homer', 'Homer',\n",
              "       'Homer', 'Homer', 'Homer', 'Homer', 'Homer', 'Homer', 'Homer',\n",
              "       'Homer', 'Homer', 'Homer', 'Homer', 'Homer', 'Homer', 'Homer',\n",
              "       'Homer', 'Homer', 'Homer', 'Homer', 'Homer', 'Homer', 'Homer',\n",
              "       'Homer', 'Homer', 'Homer', 'Homer', 'Homer', 'Homer', 'Homer',\n",
              "       'Homer', 'Homer', 'Homer', 'Homer', 'Homer', 'Homer', 'Homer',\n",
              "       'Homer', 'Homer', 'Homer', 'Homer', 'Homer', 'Homer', 'Homer',\n",
              "       'Homer', 'Homer', 'Homer', 'Homer', 'Homer', 'Homer', 'Homer',\n",
              "       'Homer', 'Homer', 'Homer', 'Homer', 'Homer', 'Homer'], dtype=object)"
            ]
          },
          "metadata": {},
          "execution_count": 10
        }
      ]
    },
    {
      "cell_type": "code",
      "source": [
        "Y = (Y == 'Bart')\n",
        "Y"
      ],
      "metadata": {
        "colab": {
          "base_uri": "https://localhost:8080/"
        },
        "id": "Ui-ETkayJJwm",
        "outputId": "c22eee4f-532b-462a-b78d-70bccfd7e80e"
      },
      "execution_count": 11,
      "outputs": [
        {
          "output_type": "execute_result",
          "data": {
            "text/plain": [
              "array([ True,  True,  True,  True,  True,  True,  True,  True,  True,\n",
              "        True,  True,  True,  True,  True,  True,  True,  True,  True,\n",
              "        True,  True,  True,  True,  True,  True,  True,  True,  True,\n",
              "        True,  True,  True,  True,  True,  True,  True,  True,  True,\n",
              "        True,  True,  True,  True,  True,  True,  True,  True,  True,\n",
              "        True,  True,  True,  True,  True,  True,  True,  True,  True,\n",
              "        True,  True,  True,  True,  True,  True,  True,  True,  True,\n",
              "        True,  True,  True,  True,  True,  True,  True,  True,  True,\n",
              "        True,  True,  True,  True,  True,  True,  True,  True,  True,\n",
              "        True,  True,  True,  True,  True,  True,  True,  True,  True,\n",
              "        True,  True,  True,  True,  True,  True,  True,  True,  True,\n",
              "        True,  True,  True,  True,  True,  True,  True,  True,  True,\n",
              "        True,  True,  True,  True,  True,  True,  True,  True,  True,\n",
              "        True,  True,  True,  True,  True,  True,  True,  True,  True,\n",
              "        True,  True,  True,  True,  True,  True,  True,  True,  True,\n",
              "        True,  True,  True,  True,  True,  True,  True,  True,  True,\n",
              "        True,  True,  True,  True,  True,  True,  True,  True,  True,\n",
              "        True,  True,  True,  True,  True,  True,  True,  True,  True,\n",
              "        True,  True,  True,  True,  True,  True,  True, False, False,\n",
              "       False, False, False, False, False, False, False, False, False,\n",
              "       False, False, False, False, False, False, False, False, False,\n",
              "       False, False, False, False, False, False, False, False, False,\n",
              "       False, False, False, False, False, False, False, False, False,\n",
              "       False, False, False, False, False, False, False, False, False,\n",
              "       False, False, False, False, False, False, False, False, False,\n",
              "       False, False, False, False, False, False, False, False, False,\n",
              "       False, False, False, False, False, False, False, False, False,\n",
              "       False, False, False, False, False, False, False, False, False,\n",
              "       False, False, False, False, False, False, False, False, False,\n",
              "       False, False, False, False, False, False, False, False, False,\n",
              "       False, False, False, False, False, False, False, False, False,\n",
              "       False, False, False, False, False, False, False, False, False,\n",
              "       False, False, False, False, False])"
            ]
          },
          "metadata": {},
          "execution_count": 11
        }
      ]
    },
    {
      "cell_type": "code",
      "source": [
        "from sklearn.model_selection import train_test_split\n",
        "X_treinamento, X_teste, Y_treinamento, Y_teste = train_test_split(X, Y, test_size = 0.2)"
      ],
      "metadata": {
        "id": "rIIfweuzKLBb"
      },
      "execution_count": 13,
      "outputs": []
    },
    {
      "cell_type": "code",
      "source": [
        "X_treinamento.shape, Y_treinamento.shape"
      ],
      "metadata": {
        "colab": {
          "base_uri": "https://localhost:8080/"
        },
        "id": "1kSbPftZKK5D",
        "outputId": "aefc4ba5-60ca-4fa4-9872-d1c65d0b64f2"
      },
      "execution_count": 14,
      "outputs": [
        {
          "output_type": "execute_result",
          "data": {
            "text/plain": [
              "((234, 6), (234,))"
            ]
          },
          "metadata": {},
          "execution_count": 14
        }
      ]
    },
    {
      "cell_type": "code",
      "source": [
        "X_teste.shape, Y_teste.shape"
      ],
      "metadata": {
        "colab": {
          "base_uri": "https://localhost:8080/"
        },
        "id": "qeQG-R4MKKeB",
        "outputId": "7aa19389-4c93-4fdc-a8ad-1e7c04326db9"
      },
      "execution_count": 15,
      "outputs": [
        {
          "output_type": "execute_result",
          "data": {
            "text/plain": [
              "((59, 6), (59,))"
            ]
          },
          "metadata": {},
          "execution_count": 15
        }
      ]
    },
    {
      "cell_type": "markdown",
      "source": [
        "## **Construção e treinamento**"
      ],
      "metadata": {
        "id": "y8U0gXuBNDJm"
      }
    },
    {
      "cell_type": "code",
      "source": [
        "rede_neural = tf.keras.models.Sequential()\n",
        "rede_neural.add(tf.keras.layers.Dense(units=4, activation='relu', input_shape=(6,)))\n",
        "rede_neural.add(tf.keras.layers.Dense(units=4, activation='relu'))\n",
        "rede_neural.add(tf.keras.layers.Dense(units=4, activation='relu'))\n",
        "rede_neural.add(tf.keras.layers.Dense(units=1, activation='sigmoid'))"
      ],
      "metadata": {
        "id": "U3OwsNiMKwrd"
      },
      "execution_count": 17,
      "outputs": []
    },
    {
      "cell_type": "code",
      "source": [
        "rede_neural.summary()"
      ],
      "metadata": {
        "colab": {
          "base_uri": "https://localhost:8080/"
        },
        "id": "z-bPK18VKwhx",
        "outputId": "1ae93f93-539a-42a0-cad2-ae390bead538"
      },
      "execution_count": 18,
      "outputs": [
        {
          "output_type": "stream",
          "name": "stdout",
          "text": [
            "Model: \"sequential_1\"\n",
            "_________________________________________________________________\n",
            " Layer (type)                Output Shape              Param #   \n",
            "=================================================================\n",
            " dense_1 (Dense)             (None, 4)                 28        \n",
            "                                                                 \n",
            " dense_2 (Dense)             (None, 4)                 20        \n",
            "                                                                 \n",
            " dense_3 (Dense)             (None, 4)                 20        \n",
            "                                                                 \n",
            " dense_4 (Dense)             (None, 1)                 5         \n",
            "                                                                 \n",
            "=================================================================\n",
            "Total params: 73\n",
            "Trainable params: 73\n",
            "Non-trainable params: 0\n",
            "_________________________________________________________________\n"
          ]
        }
      ]
    },
    {
      "cell_type": "code",
      "source": [
        "rede_neural.compile(optimizer='Adam', loss='binary_crossentropy', metrics = ['accuracy'])"
      ],
      "metadata": {
        "id": "joKB4SWnKwJg"
      },
      "execution_count": 20,
      "outputs": []
    },
    {
      "cell_type": "code",
      "source": [
        "historico = rede_neural.fit(X_treinamento, Y_treinamento, epochs=50, validation_split=0.1)"
      ],
      "metadata": {
        "colab": {
          "base_uri": "https://localhost:8080/"
        },
        "id": "rJnSY1ZnNAqN",
        "outputId": "b8b3f83f-c097-4a05-d203-697569cbe52e"
      },
      "execution_count": 28,
      "outputs": [
        {
          "output_type": "stream",
          "name": "stdout",
          "text": [
            "Epoch 1/50\n",
            "7/7 [==============================] - 0s 14ms/step - loss: 0.2037 - accuracy: 0.8952 - val_loss: 0.2610 - val_accuracy: 0.7917\n",
            "Epoch 2/50\n",
            "7/7 [==============================] - 0s 8ms/step - loss: 0.2015 - accuracy: 0.8952 - val_loss: 0.2585 - val_accuracy: 0.7917\n",
            "Epoch 3/50\n",
            "7/7 [==============================] - 0s 8ms/step - loss: 0.1993 - accuracy: 0.8952 - val_loss: 0.2581 - val_accuracy: 0.7917\n",
            "Epoch 4/50\n",
            "7/7 [==============================] - 0s 11ms/step - loss: 0.1975 - accuracy: 0.8952 - val_loss: 0.2582 - val_accuracy: 0.7917\n",
            "Epoch 5/50\n",
            "7/7 [==============================] - 0s 8ms/step - loss: 0.1957 - accuracy: 0.8952 - val_loss: 0.2570 - val_accuracy: 0.7917\n",
            "Epoch 6/50\n",
            "7/7 [==============================] - 0s 8ms/step - loss: 0.1940 - accuracy: 0.8952 - val_loss: 0.2572 - val_accuracy: 0.7917\n",
            "Epoch 7/50\n",
            "7/7 [==============================] - 0s 7ms/step - loss: 0.1926 - accuracy: 0.8952 - val_loss: 0.2574 - val_accuracy: 0.7917\n",
            "Epoch 8/50\n",
            "7/7 [==============================] - 0s 8ms/step - loss: 0.1912 - accuracy: 0.8952 - val_loss: 0.2573 - val_accuracy: 0.7917\n",
            "Epoch 9/50\n",
            "7/7 [==============================] - 0s 12ms/step - loss: 0.1897 - accuracy: 0.8952 - val_loss: 0.2552 - val_accuracy: 0.7917\n",
            "Epoch 10/50\n",
            "7/7 [==============================] - 0s 10ms/step - loss: 0.1885 - accuracy: 0.8952 - val_loss: 0.2531 - val_accuracy: 0.7917\n",
            "Epoch 11/50\n",
            "7/7 [==============================] - 0s 10ms/step - loss: 0.1875 - accuracy: 0.8952 - val_loss: 0.2509 - val_accuracy: 0.7917\n",
            "Epoch 12/50\n",
            "7/7 [==============================] - 0s 7ms/step - loss: 0.1863 - accuracy: 0.8952 - val_loss: 0.2521 - val_accuracy: 0.7917\n",
            "Epoch 13/50\n",
            "7/7 [==============================] - 0s 8ms/step - loss: 0.1853 - accuracy: 0.8952 - val_loss: 0.2526 - val_accuracy: 0.7917\n",
            "Epoch 14/50\n",
            "7/7 [==============================] - 0s 13ms/step - loss: 0.1843 - accuracy: 0.8952 - val_loss: 0.2522 - val_accuracy: 0.7917\n",
            "Epoch 15/50\n",
            "7/7 [==============================] - 0s 8ms/step - loss: 0.1836 - accuracy: 0.8952 - val_loss: 0.2487 - val_accuracy: 0.7917\n",
            "Epoch 16/50\n",
            "7/7 [==============================] - 0s 8ms/step - loss: 0.1825 - accuracy: 0.8952 - val_loss: 0.2490 - val_accuracy: 0.7917\n",
            "Epoch 17/50\n",
            "7/7 [==============================] - 0s 7ms/step - loss: 0.1816 - accuracy: 0.8952 - val_loss: 0.2487 - val_accuracy: 0.7917\n",
            "Epoch 18/50\n",
            "7/7 [==============================] - 0s 9ms/step - loss: 0.1808 - accuracy: 0.8952 - val_loss: 0.2499 - val_accuracy: 0.7917\n",
            "Epoch 19/50\n",
            "7/7 [==============================] - 0s 8ms/step - loss: 0.1801 - accuracy: 0.8952 - val_loss: 0.2501 - val_accuracy: 0.7917\n",
            "Epoch 20/50\n",
            "7/7 [==============================] - 0s 8ms/step - loss: 0.1793 - accuracy: 0.8952 - val_loss: 0.2494 - val_accuracy: 0.7917\n",
            "Epoch 21/50\n",
            "7/7 [==============================] - 0s 8ms/step - loss: 0.1785 - accuracy: 0.8952 - val_loss: 0.2481 - val_accuracy: 0.7917\n",
            "Epoch 22/50\n",
            "7/7 [==============================] - 0s 9ms/step - loss: 0.1779 - accuracy: 0.8952 - val_loss: 0.2475 - val_accuracy: 0.7917\n",
            "Epoch 23/50\n",
            "7/7 [==============================] - 0s 8ms/step - loss: 0.1774 - accuracy: 0.8952 - val_loss: 0.2484 - val_accuracy: 0.7917\n",
            "Epoch 24/50\n",
            "7/7 [==============================] - 0s 8ms/step - loss: 0.1766 - accuracy: 0.8952 - val_loss: 0.2471 - val_accuracy: 0.7917\n",
            "Epoch 25/50\n",
            "7/7 [==============================] - 0s 9ms/step - loss: 0.1761 - accuracy: 0.8952 - val_loss: 0.2483 - val_accuracy: 0.7917\n",
            "Epoch 26/50\n",
            "7/7 [==============================] - 0s 9ms/step - loss: 0.1754 - accuracy: 0.8952 - val_loss: 0.2479 - val_accuracy: 0.7917\n",
            "Epoch 27/50\n",
            "7/7 [==============================] - 0s 10ms/step - loss: 0.1753 - accuracy: 0.8952 - val_loss: 0.2461 - val_accuracy: 0.7917\n",
            "Epoch 28/50\n",
            "7/7 [==============================] - 0s 8ms/step - loss: 0.1747 - accuracy: 0.8952 - val_loss: 0.2518 - val_accuracy: 0.7917\n",
            "Epoch 29/50\n",
            "7/7 [==============================] - 0s 7ms/step - loss: 0.1739 - accuracy: 0.8952 - val_loss: 0.2527 - val_accuracy: 0.7917\n",
            "Epoch 30/50\n",
            "7/7 [==============================] - 0s 8ms/step - loss: 0.1733 - accuracy: 0.8952 - val_loss: 0.2514 - val_accuracy: 0.7917\n",
            "Epoch 31/50\n",
            "7/7 [==============================] - 0s 8ms/step - loss: 0.1729 - accuracy: 0.8952 - val_loss: 0.2510 - val_accuracy: 0.7917\n",
            "Epoch 32/50\n",
            "7/7 [==============================] - 0s 8ms/step - loss: 0.1726 - accuracy: 0.8952 - val_loss: 0.2501 - val_accuracy: 0.7917\n",
            "Epoch 33/50\n",
            "7/7 [==============================] - 0s 7ms/step - loss: 0.1718 - accuracy: 0.8952 - val_loss: 0.2528 - val_accuracy: 0.7917\n",
            "Epoch 34/50\n",
            "7/7 [==============================] - 0s 8ms/step - loss: 0.1715 - accuracy: 0.8952 - val_loss: 0.2535 - val_accuracy: 0.7917\n",
            "Epoch 35/50\n",
            "7/7 [==============================] - 0s 10ms/step - loss: 0.1711 - accuracy: 0.8952 - val_loss: 0.2527 - val_accuracy: 0.7917\n",
            "Epoch 36/50\n",
            "7/7 [==============================] - 0s 8ms/step - loss: 0.1706 - accuracy: 0.8952 - val_loss: 0.2522 - val_accuracy: 0.7917\n",
            "Epoch 37/50\n",
            "7/7 [==============================] - 0s 8ms/step - loss: 0.1701 - accuracy: 0.8952 - val_loss: 0.2504 - val_accuracy: 0.7917\n",
            "Epoch 38/50\n",
            "7/7 [==============================] - 0s 8ms/step - loss: 0.1698 - accuracy: 0.8952 - val_loss: 0.2459 - val_accuracy: 0.7917\n",
            "Epoch 39/50\n",
            "7/7 [==============================] - 0s 9ms/step - loss: 0.1693 - accuracy: 0.8952 - val_loss: 0.2465 - val_accuracy: 0.7917\n",
            "Epoch 40/50\n",
            "7/7 [==============================] - 0s 8ms/step - loss: 0.1690 - accuracy: 0.8952 - val_loss: 0.2442 - val_accuracy: 0.7917\n",
            "Epoch 41/50\n",
            "7/7 [==============================] - 0s 8ms/step - loss: 0.1687 - accuracy: 0.8952 - val_loss: 0.2452 - val_accuracy: 0.7917\n",
            "Epoch 42/50\n",
            "7/7 [==============================] - 0s 8ms/step - loss: 0.1684 - accuracy: 0.8952 - val_loss: 0.2464 - val_accuracy: 0.7917\n",
            "Epoch 43/50\n",
            "7/7 [==============================] - 0s 12ms/step - loss: 0.1677 - accuracy: 0.9000 - val_loss: 0.2442 - val_accuracy: 0.7917\n",
            "Epoch 44/50\n",
            "7/7 [==============================] - 0s 16ms/step - loss: 0.1678 - accuracy: 0.8857 - val_loss: 0.2402 - val_accuracy: 0.9167\n",
            "Epoch 45/50\n",
            "7/7 [==============================] - 0s 18ms/step - loss: 0.1672 - accuracy: 0.9190 - val_loss: 0.2417 - val_accuracy: 0.9167\n",
            "Epoch 46/50\n",
            "7/7 [==============================] - 0s 11ms/step - loss: 0.1668 - accuracy: 0.9143 - val_loss: 0.2413 - val_accuracy: 0.9167\n",
            "Epoch 47/50\n",
            "7/7 [==============================] - 0s 11ms/step - loss: 0.1665 - accuracy: 0.9190 - val_loss: 0.2412 - val_accuracy: 0.9167\n",
            "Epoch 48/50\n",
            "7/7 [==============================] - 0s 14ms/step - loss: 0.1664 - accuracy: 0.8857 - val_loss: 0.2437 - val_accuracy: 0.7917\n",
            "Epoch 49/50\n",
            "7/7 [==============================] - 0s 10ms/step - loss: 0.1658 - accuracy: 0.9000 - val_loss: 0.2432 - val_accuracy: 0.7917\n",
            "Epoch 50/50\n",
            "7/7 [==============================] - 0s 10ms/step - loss: 0.1656 - accuracy: 0.9000 - val_loss: 0.2445 - val_accuracy: 0.7917\n"
          ]
        }
      ]
    },
    {
      "cell_type": "markdown",
      "source": [
        "## **Avaliação**"
      ],
      "metadata": {
        "id": "fOVNvZkwPJ3b"
      }
    },
    {
      "cell_type": "code",
      "source": [
        "historico.history.keys()"
      ],
      "metadata": {
        "colab": {
          "base_uri": "https://localhost:8080/"
        },
        "id": "sVEPb7XQNAm-",
        "outputId": "ca6e45dc-f13d-486d-a963-bb495309f1c7"
      },
      "execution_count": 29,
      "outputs": [
        {
          "output_type": "execute_result",
          "data": {
            "text/plain": [
              "dict_keys(['loss', 'accuracy', 'val_loss', 'val_accuracy'])"
            ]
          },
          "metadata": {},
          "execution_count": 29
        }
      ]
    },
    {
      "cell_type": "code",
      "source": [
        "plt.plot(historico.history['val_loss'])"
      ],
      "metadata": {
        "colab": {
          "base_uri": "https://localhost:8080/",
          "height": 282
        },
        "id": "Dl_uIfM4NAkP",
        "outputId": "c276ddbc-afeb-45f5-fdcf-5f423b4b2491"
      },
      "execution_count": 30,
      "outputs": [
        {
          "output_type": "execute_result",
          "data": {
            "text/plain": [
              "[<matplotlib.lines.Line2D at 0x7fd4fe2e1e50>]"
            ]
          },
          "metadata": {},
          "execution_count": 30
        },
        {
          "output_type": "display_data",
          "data": {
            "text/plain": [
              "<Figure size 432x288 with 1 Axes>"
            ],
            "image/png": "[encoded data removed]"
          },
          "metadata": {
            "needs_background": "light"
          }
        }
      ]
    },
    {
      "cell_type": "code",
      "source": [
        "plt.plot(historico.history['val_accuracy'])"
      ],
      "metadata": {
        "colab": {
          "base_uri": "https://localhost:8080/",
          "height": 282
        },
        "id": "My7ZlVbuPYoG",
        "outputId": "ec5158a0-a6fb-4646-8745-ba341b7cb3b6"
      },
      "execution_count": 31,
      "outputs": [
        {
          "output_type": "execute_result",
          "data": {
            "text/plain": [
              "[<matplotlib.lines.Line2D at 0x7fd4fc265c10>]"
            ]
          },
          "metadata": {},
          "execution_count": 31
        },
        {
          "output_type": "display_data",
          "data": {
            "text/plain": [
              "<Figure size 432x288 with 1 Axes>"
            ],
            "image/png": "[encoded data removed]"
          },
          "metadata": {
            "needs_background": "light"
          }
        }
      ]
    },
    {
      "cell_type": "code",
      "source": [
        "previsoes = rede_neural.predict(X_teste)\n",
        "previsoes"
      ],
      "metadata": {
        "colab": {
          "base_uri": "https://localhost:8080/"
        },
        "id": "vA7kVmgBPYkT",
        "outputId": "9c3dc5de-8ef8-43de-d8b7-65f5eae563a6"
      },
      "execution_count": 32,
      "outputs": [
        {
          "output_type": "stream",
          "name": "stdout",
          "text": [
            "2/2 [==============================] - 0s 4ms/step\n"
          ]
        },
        {
          "output_type": "execute_result",
          "data": {
            "text/plain": [
              "array([[9.99972284e-01],\n",
              "       [4.95285660e-01],\n",
              "       [8.88470538e-07],\n",
              "       [9.89250779e-01],\n",
              "       [9.99795198e-01],\n",
              "       [9.99961197e-01],\n",
              "       [9.99897838e-01],\n",
              "       [9.83409405e-01],\n",
              "       [4.38767701e-01],\n",
              "       [4.95251596e-01],\n",
              "       [4.95366871e-01],\n",
              "       [5.74120486e-06],\n",
              "       [4.95433092e-01],\n",
              "       [4.87693157e-08],\n",
              "       [4.87466544e-01],\n",
              "       [4.85499576e-03],\n",
              "       [2.59367908e-07],\n",
              "       [9.15746465e-02],\n",
              "       [9.99966800e-01],\n",
              "       [5.07212121e-07],\n",
              "       [9.82839836e-08],\n",
              "       [4.87033010e-01],\n",
              "       [4.95426744e-01],\n",
              "       [4.95515376e-01],\n",
              "       [9.94595110e-01],\n",
              "       [2.35826825e-03],\n",
              "       [4.02283695e-06],\n",
              "       [9.98761654e-01],\n",
              "       [4.70750034e-01],\n",
              "       [4.09447663e-02],\n",
              "       [4.45267856e-01],\n",
              "       [9.99941885e-01],\n",
              "       [9.95781422e-01],\n",
              "       [4.95445341e-01],\n",
              "       [3.44711793e-06],\n",
              "       [1.57277566e-06],\n",
              "       [9.99997556e-01],\n",
              "       [4.95058119e-01],\n",
              "       [1.42722838e-02],\n",
              "       [9.04466172e-12],\n",
              "       [9.98887837e-01],\n",
              "       [4.95460391e-01],\n",
              "       [4.50928092e-01],\n",
              "       [9.96188998e-01],\n",
              "       [9.99920726e-01],\n",
              "       [1.92637184e-10],\n",
              "       [9.98947263e-01],\n",
              "       [1.11648425e-01],\n",
              "       [1.17318006e-03],\n",
              "       [4.95474994e-01],\n",
              "       [8.46056697e-11],\n",
              "       [5.75594530e-02],\n",
              "       [4.94556665e-01],\n",
              "       [5.45889197e-04],\n",
              "       [9.26447285e-07],\n",
              "       [9.99999523e-01],\n",
              "       [1.06954381e-01],\n",
              "       [9.99998569e-01],\n",
              "       [9.91396368e-01]], dtype=float32)"
            ]
          },
          "metadata": {},
          "execution_count": 32
        }
      ]
    },
    {
      "cell_type": "code",
      "source": [
        "previsoes = (previsoes > 0.5)\n",
        "previsoes"
      ],
      "metadata": {
        "colab": {
          "base_uri": "https://localhost:8080/"
        },
        "id": "j3h1DEhYPYf3",
        "outputId": "c88a33c1-5166-45e7-9989-37bf1db42189"
      },
      "execution_count": 33,
      "outputs": [
        {
          "output_type": "execute_result",
          "data": {
            "text/plain": [
              "array([[ True],\n",
              "       [False],\n",
              "       [False],\n",
              "       [ True],\n",
              "       [ True],\n",
              "       [ True],\n",
              "       [ True],\n",
              "       [ True],\n",
              "       [False],\n",
              "       [False],\n",
              "       [False],\n",
              "       [False],\n",
              "       [False],\n",
              "       [False],\n",
              "       [False],\n",
              "       [False],\n",
              "       [False],\n",
              "       [False],\n",
              "       [ True],\n",
              "       [False],\n",
              "       [False],\n",
              "       [False],\n",
              "       [False],\n",
              "       [False],\n",
              "       [ True],\n",
              "       [False],\n",
              "       [False],\n",
              "       [ True],\n",
              "       [False],\n",
              "       [False],\n",
              "       [False],\n",
              "       [ True],\n",
              "       [ True],\n",
              "       [False],\n",
              "       [False],\n",
              "       [False],\n",
              "       [ True],\n",
              "       [False],\n",
              "       [False],\n",
              "       [False],\n",
              "       [ True],\n",
              "       [False],\n",
              "       [False],\n",
              "       [ True],\n",
              "       [ True],\n",
              "       [False],\n",
              "       [ True],\n",
              "       [False],\n",
              "       [False],\n",
              "       [False],\n",
              "       [False],\n",
              "       [False],\n",
              "       [False],\n",
              "       [False],\n",
              "       [False],\n",
              "       [ True],\n",
              "       [False],\n",
              "       [ True],\n",
              "       [ True]])"
            ]
          },
          "metadata": {},
          "execution_count": 33
        }
      ]
    },
    {
      "cell_type": "code",
      "source": [
        "Y_teste"
      ],
      "metadata": {
        "colab": {
          "base_uri": "https://localhost:8080/"
        },
        "id": "wPs7QK9jNAbf",
        "outputId": "a483d286-b2e4-4bb4-f742-9038a9d0eab1"
      },
      "execution_count": 34,
      "outputs": [
        {
          "output_type": "execute_result",
          "data": {
            "text/plain": [
              "array([ True,  True, False,  True,  True,  True,  True,  True,  True,\n",
              "        True,  True, False,  True, False,  True, False, False, False,\n",
              "        True, False, False, False,  True,  True,  True, False, False,\n",
              "        True,  True, False, False,  True,  True,  True, False, False,\n",
              "        True,  True, False, False,  True, False, False,  True,  True,\n",
              "       False,  True, False, False,  True, False, False,  True, False,\n",
              "       False,  True, False,  True,  True])"
            ]
          },
          "metadata": {},
          "execution_count": 34
        }
      ]
    },
    {
      "cell_type": "code",
      "source": [
        "from sklearn.metrics import accuracy_score\n",
        "accuracy_score(previsoes, Y_teste)"
      ],
      "metadata": {
        "colab": {
          "base_uri": "https://localhost:8080/"
        },
        "id": "Jti8abSuQ8sG",
        "outputId": "d178aa65-a360-42bf-ea54-e7b69b510694"
      },
      "execution_count": 37,
      "outputs": [
        {
          "output_type": "execute_result",
          "data": {
            "text/plain": [
              "0.7796610169491526"
            ]
          },
          "metadata": {},
          "execution_count": 37
        }
      ]
    },
    {
      "cell_type": "code",
      "source": [
        "from sklearn.metrics import confusion_matrix\n",
        "cm = confusion_matrix(Y_teste, previsoes)\n",
        "cm"
      ],
      "metadata": {
        "colab": {
          "base_uri": "https://localhost:8080/"
        },
        "id": "yJP6nxlDRMwJ",
        "outputId": "67e0d4c4-632b-4a82-ebe0-2896fd83c333"
      },
      "execution_count": 42,
      "outputs": [
        {
          "output_type": "execute_result",
          "data": {
            "text/plain": [
              "array([[27,  0],\n",
              "       [13, 19]])"
            ]
          },
          "metadata": {},
          "execution_count": 42
        }
      ]
    },
    {
      "cell_type": "code",
      "source": [
        "sns.heatmap(cm, annot=True)"
      ],
      "metadata": {
        "colab": {
          "base_uri": "https://localhost:8080/",
          "height": 282
        },
        "id": "nxSee50MRdVM",
        "outputId": "7108b397-3da7-4287-ec71-cb5a5b01c16b"
      },
      "execution_count": 43,
      "outputs": [
        {
          "output_type": "execute_result",
          "data": {
            "text/plain": [
              "<AxesSubplot:>"
            ]
          },
          "metadata": {},
          "execution_count": 43
        },
        {
          "output_type": "display_data",
          "data": {
            "text/plain": [
              "<Figure size 432x288 with 2 Axes>"
            ],
            "image/png": "[encoded data removed]"
          },
          "metadata": {
            "needs_background": "light"
          }
        }
      ]
    }
  ]
}